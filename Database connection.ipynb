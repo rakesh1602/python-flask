{
 "cells": [
  {
   "cell_type": "code",
   "execution_count": 2,
   "id": "6123ec59",
   "metadata": {},
   "outputs": [
    {
     "name": "stdout",
     "output_type": "stream",
     "text": [
      "Defaulting to user installation because normal site-packages is not writeable\n",
      "Collecting pymysql\n",
      "  Downloading PyMySQL-1.0.2-py3-none-any.whl (43 kB)\n",
      "Installing collected packages: pymysql\n",
      "Successfully installed pymysql-1.0.2\n",
      "Note: you may need to restart the kernel to use updated packages.\n"
     ]
    }
   ],
   "source": [
    "#pip install pymysql"
   ]
  },
  {
   "cell_type": "code",
   "execution_count": 1,
   "id": "04d977dc",
   "metadata": {},
   "outputs": [],
   "source": [
    "import pymysql as sql"
   ]
  },
  {
   "cell_type": "code",
   "execution_count": 18,
   "id": "0576e4e1",
   "metadata": {},
   "outputs": [],
   "source": [
    "def getConnection():\n",
    "    conn=sql.connect(host='localhost',port=3307, user='root', database='employee_info')\n",
    "    return conn"
   ]
  },
  {
   "cell_type": "code",
   "execution_count": 27,
   "id": "68cc1d6d",
   "metadata": {},
   "outputs": [],
   "source": [
    "conn=getConnection()\n",
    "cur=conn.cursor()\n",
    "query=\"insert into deptpy values(10,'suresh')\"\n",
    "cur.execute(query)\n",
    "conn.commit()\n",
    "conn.close()"
   ]
  },
  {
   "cell_type": "code",
   "execution_count": 30,
   "id": "bb4e69bd",
   "metadata": {},
   "outputs": [],
   "source": [
    "conn=getConnection()\n",
    "cur=conn.cursor()\n",
    "query=\"update employee set salary=salary+salary*0.10 where id=5\"\n",
    "cur.execute(query)\n",
    "conn.commit()\n",
    "conn.close()"
   ]
  },
  {
   "cell_type": "code",
   "execution_count": 32,
   "id": "a62757b2",
   "metadata": {},
   "outputs": [],
   "source": [
    "conn=getConnection()\n",
    "cur=conn.cursor()\n",
    "query=\"update employee set name='python' where id=5\"\n",
    "cur.execute(query)\n",
    "conn.commit()\n",
    "conn.close()"
   ]
  },
  {
   "cell_type": "code",
   "execution_count": 33,
   "id": "46f8f32a",
   "metadata": {},
   "outputs": [],
   "source": [
    "conn=getConnection()\n",
    "cur=conn.cursor()\n",
    "query=\"delete from employee where id=5\"\n",
    "cur.execute(query)\n",
    "conn.commit()\n",
    "conn.close()"
   ]
  },
  {
   "cell_type": "code",
   "execution_count": 37,
   "id": "c9431150",
   "metadata": {},
   "outputs": [
    {
     "name": "stdout",
     "output_type": "stream",
     "text": [
      "(1, 'rakesh', 'chavan', 'vikhroli', 300000)\n",
      "(2, 'kunal', 'dinkar', 'badlapur', 300000)\n",
      "(3, 'suchit', 'khadtar', 'borivali', 30000)\n",
      "(4, 'ramesh', 'misc', 'mumbai', 4555)\n"
     ]
    }
   ],
   "source": [
    "conn=getConnection()\n",
    "cur=conn.cursor()\n",
    "query=\"select * from employee\"\n",
    "cur.execute(query)\n",
    "k=cur.fetchone()\n",
    "print(k)\n",
    "k1=cur.fetchall()\n",
    "for i in k1:\n",
    "    print (i)\n",
    "conn.commit()\n",
    "conn.close()"
   ]
  },
  {
   "cell_type": "code",
   "execution_count": null,
   "id": "87bfdc60",
   "metadata": {},
   "outputs": [],
   "source": []
  }
 ],
 "metadata": {
  "kernelspec": {
   "display_name": "Python 3 (ipykernel)",
   "language": "python",
   "name": "python3"
  },
  "language_info": {
   "codemirror_mode": {
    "name": "ipython",
    "version": 3
   },
   "file_extension": ".py",
   "mimetype": "text/x-python",
   "name": "python",
   "nbconvert_exporter": "python",
   "pygments_lexer": "ipython3",
   "version": "3.9.12"
  }
 },
 "nbformat": 4,
 "nbformat_minor": 5
}
